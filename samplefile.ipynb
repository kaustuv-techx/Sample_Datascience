{
  "nbformat": 4,
  "nbformat_minor": 0,
  "metadata": {
    "colab": {
      "name": "Copy of samplefile.ipynb",
      "provenance": [],
      "authorship_tag": "ABX9TyOYGiUZmgXDdneVXSKxo5B7",
      "include_colab_link": true
    },
    "kernelspec": {
      "name": "python3",
      "display_name": "Python 3"
    },
    "language_info": {
      "name": "python"
    }
  },
  "cells": [
    {
      "cell_type": "markdown",
      "metadata": {
        "id": "view-in-github",
        "colab_type": "text"
      },
      "source": [
        "<a href=\"https://colab.research.google.com/github/kaustuv-techx/Sample_Datascience/blob/main/samplefile.ipynb\" target=\"_parent\"><img src=\"https://colab.research.google.com/assets/colab-badge.svg\" alt=\"Open In Colab\"/></a>"
      ]
    },
    {
      "cell_type": "code",
      "metadata": {
        "colab": {
          "base_uri": "https://localhost:8080/"
        },
        "id": "7wKc8Ot36i2L",
        "outputId": "f3788144-3962-44e7-8c2d-3a915daead2a"
      },
      "source": [
        "time = \"3pm\"\n",
        "mood = \"good\"\n",
        " \n",
        "def report():\n",
        "  print(\"The current time is \" + time)\n",
        "  print(\"The mood is \" + mood)\n",
        " \n",
        "print(\"Beginning of report\")\n",
        " \n",
        "report()"
      ],
      "execution_count": null,
      "outputs": [
        {
          "output_type": "stream",
          "name": "stdout",
          "text": [
            "Beginning of report\n",
            "The current time is 3pm\n",
            "The mood is good\n"
          ]
        }
      ]
    },
    {
      "cell_type": "code",
      "metadata": {
        "id": "bYYbV21H65sN"
      },
      "source": [
        "def update(new_value = 10):\n",
        "  old_value = new_value\n",
        "update(20)"
      ],
      "execution_count": null,
      "outputs": []
    },
    {
      "cell_type": "code",
      "metadata": {
        "id": "54lL5iAM68Mk",
        "outputId": "00e2e935-d5b2-41c2-dba3-393bbbeacb8c",
        "colab": {
          "base_uri": "https://localhost:8080/"
        }
      },
      "source": [
        "print(update)"
      ],
      "execution_count": null,
      "outputs": [
        {
          "output_type": "stream",
          "name": "stdout",
          "text": [
            "<function update at 0x7f6ac0f753b0>\n"
          ]
        }
      ]
    },
    {
      "cell_type": "code",
      "metadata": {
        "id": "OiBo4YoQ6_oU"
      },
      "source": [
        ""
      ],
      "execution_count": null,
      "outputs": []
    }
  ]
}